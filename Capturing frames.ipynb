{
 "cells": [
  {
   "cell_type": "code",
   "execution_count": null,
   "id": "mediterranean-techno",
   "metadata": {},
   "outputs": [
    {
     "name": "stdout",
     "output_type": "stream",
     "text": [
      "Read a new frame:  True\n",
      "Read a new frame:  True\n",
      "Read a new frame:  True\n",
      "Read a new frame:  True\n",
      "Read a new frame:  True\n",
      "Read a new frame:  True\n",
      "Read a new frame:  True\n",
      "Read a new frame:  True\n",
      "Read a new frame:  True\n",
      "Read a new frame:  True\n"
     ]
    }
   ],
   "source": [
    "import cv2\n",
    "\n",
    "# Webcam Yuzhnoye Butovo (metro Skobelevskaya) in Moscow\n",
    "\n",
    "cap = cv2.VideoCapture(\"http://cam.butovonet.ru/axis-cgi/mjpg/video.cgi?resolution=480x576&dummy=1460609511992\")\n",
    "success, image = cap.read()\n",
    "count = 1\n",
    "success = True\n",
    "\n",
    "while success:\n",
    "    cv2.imwrite(\"frame\\\\frame%d.jpg\" % count, image)\n",
    "    success, image = cap.read()\n",
    "    print('Read a new frame: ', success)\n",
    "    count += 1\n",
    "    \n",
    "    if count > 12:\n",
    "        # 12 frames/15 seconds/3 minutes\n",
    "        break\n",
    "        \n",
    "    if cv2.waitKey(15000) & 0xFF == ord('q'):\n",
    "        break"
   ]
  },
  {
   "cell_type": "code",
   "execution_count": null,
   "id": "coordinated-romania",
   "metadata": {},
   "outputs": [],
   "source": []
  }
 ],
 "metadata": {
  "kernelspec": {
   "display_name": "Python 3",
   "language": "python",
   "name": "python3"
  },
  "language_info": {
   "codemirror_mode": {
    "name": "ipython",
    "version": 3
   },
   "file_extension": ".py",
   "mimetype": "text/x-python",
   "name": "python",
   "nbconvert_exporter": "python",
   "pygments_lexer": "ipython3",
   "version": "3.9.1"
  }
 },
 "nbformat": 4,
 "nbformat_minor": 5
}
